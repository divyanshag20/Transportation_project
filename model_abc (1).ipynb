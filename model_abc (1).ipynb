{
 "cells": [
  {
   "cell_type": "code",
   "execution_count": 1,
   "metadata": {
    "colab": {
     "base_uri": "https://localhost:8080/"
    },
    "id": "Me2VVDLcZtMc",
    "outputId": "8a9bfc2f-92dc-473d-bbfe-10c943881cc7"
   },
   "outputs": [],
   "source": [
    "# pip install pyscipopt"
   ]
  },
  {
   "cell_type": "code",
   "execution_count": 2,
   "metadata": {
    "colab": {
     "base_uri": "https://localhost:8080/"
    },
    "id": "Tdw4hKdlZ2Ve",
    "outputId": "4c45ca23-4274-42ee-900c-081e0d210dea"
   },
   "outputs": [],
   "source": [
    "# !apt-get install -y libgmp-dev libmpfr-dev libmpc-dev\n",
    "# !pip install pyscipopt\n"
   ]
  },
  {
   "cell_type": "code",
   "execution_count": 7,
   "metadata": {
    "id": "bUX1yGlNZ-dA"
   },
   "outputs": [],
   "source": [
    "from pyscipopt import Model,quicksum,multidict\n",
    "import pandas as pd"
   ]
  },
  {
   "cell_type": "code",
   "execution_count": 77,
   "metadata": {
    "id": "jJ2x0WuRbvA2"
   },
   "outputs": [],
   "source": [
    "# def addvars(model,N,L,K,A,S):\n",
    "\n",
    "\n",
    "# # Ading varaibles ............\n",
    "\n",
    "#      y = {}\n",
    "#     for i in N:\n",
    "#         for j in L:\n",
    "#             y[i,j] = model.addVar(name = \"y(%s,%s)\" % (i,j), vtype = 'B')\n",
    "\n",
    "#     r = {}\n",
    "#     w = {}\n",
    "#     z = {}\n",
    "#     x = {}\n",
    "     \n",
    "#     for i in N:\n",
    "#         for j in K:\n",
    "#             r[i,j] = model.addVar(name = \"r(%s,%s)\" % (i,j), lb = 0.0)\n",
    "           \n",
    "#     for s in S:\n",
    "#         for i in N:\n",
    "#             for j in K:\n",
    "#                 w[i,j,s] = model.addVar(name = \"w(%s,%s,%s)\" % (i,j,s), lb = 0.0)\n",
    "#                 z[i,j,s] = model.addVar(name = \"z(%s,%s,%s)\" % (i,j,s), lb = 0.0)\n",
    "\n",
    "       \n",
    "#        for k in K:\n",
    "#             for (p,q) in A:\n",
    "#                 x[p,q,k,s] = model.addVar(name = \"x(%s,%s,%s,%s)\" % (p,q,k,s), lb = 0.0)\n",
    "\n",
    "#     return y,r,w,z,x\n",
    "\n"
   ]
  },
  {
   "cell_type": "code",
   "execution_count": 1,
   "metadata": {},
   "outputs": [],
   "source": [
    "def addvars(model, I, J, K, L):\n",
    "    # Adding variables\n",
    "    x = {}\n",
    "    for i in I:\n",
    "        for j in J:\n",
    "            x[i, j] = model.addVar(name=\"x(%s,%s)\" % (i, j))\n",
    "\n",
    "    v = {}\n",
    "    for k in K:\n",
    "        for j in J:\n",
    "            v[k, j] = model.addVar(name=\"v(%s,%s)\" % (k, j))\n",
    "\n",
    "    s = {}\n",
    "    y = {}\n",
    "    z = {}\n",
    "    w = {}\n",
    "    \n",
    "    for i in I:\n",
    "        s[i] = model.addVar(name = \"s(%s)\"%(i))\n",
    "    for j in J:\n",
    "        y[j] = model.addVar(name = \"y(%s)\"%(j), vtype = 'B')\n",
    "    for k in K:\n",
    "        z[k] = model.addVar(name = \"z(%s)\"%(i), vtype = 'B')     \n",
    "    for i in I:\n",
    "        for j in J:\n",
    "            for l in L:\n",
    "                w[i, j, l] = model.addVar(name=\"w(%s,%s,%s)\" % (i, j, l), vtype = 'B')\n",
    "            \n",
    "    return s, w, x, v, y, z\n"
   ]
  },
  {
   "cell_type": "code",
   "execution_count": 2,
   "metadata": {
    "id": "moEJhXt5caT3"
   },
   "outputs": [],
   "source": [
    "def addparam(df,I, J, K, L):\n",
    "    Sk = {}\n",
    "    popi = {}\n",
    "    for k in K:\n",
    "        Sk[k] = df.loc[k-1,'Sk']\n",
    "\n",
    "    for i in I:\n",
    "        popi[i] = df.loc[i-1,'popi']\n",
    "        \n",
    "\n",
    "    mu = df.loc[0,'mu']\n",
    "    a = df.loc[0,'a']\n",
    "    b = df.loc[0,'b']\n",
    "    T = df.loc[0,'T']\n",
    "    PI = df.loc[0,'PI']\n",
    "    phi = df.loc[0,'phi']\n",
    "    \n",
    "    Uij = {}\n",
    "    Bij = {}\n",
    "    tij = {}\n",
    "    \n",
    "    Ukj = {}\n",
    "    Bkj = {}\n",
    "    tkj = {}\n",
    "    \n",
    "    \n",
    "    \n",
    "    Uij_ind = df.columns.get_loc('Uij')\n",
    "    Bij_ind = df.columns.get_loc('Bij')\n",
    "    tij_ind = df.columns.get_loc('tij')\n",
    "    \n",
    "    Ukj_ind = df.columns.get_loc('Ukj')\n",
    "    Bkj_ind = df.columns.get_loc('Bkj')\n",
    "    tkj_ind = df.columns.get_loc('tkj')\n",
    "    \n",
    "    for i in I:\n",
    "        for j in J:\n",
    "            Uij[i,j] = df.iloc[i-1,Uij_ind + j -1]\n",
    "            Bij[i,j] = df.iloc[i-1,Bij_ind + j -1]\n",
    "            tij[i,j] = df.iloc[i-1,tij_ind + j -1]\n",
    "    \n",
    "    for k in K:\n",
    "        for j in J:\n",
    "            Ukj[k,j] = df.iloc[k-1,Ukj_ind + j -1]\n",
    "            Bkj[k,j] = df.iloc[k-1,Bkj_ind + j -1]\n",
    "            tkj[k,j] = df.iloc[k-1,tkj_ind + j -1]\n",
    "    \n",
    "    \n",
    "    \n",
    "    \n",
    "    Fk = {}\n",
    "    Fj = {}\n",
    "    Qj = {}\n",
    "    \n",
    "    for k in K:\n",
    "        Fk[k] = df.loc[k-1,'Fk']\n",
    "    for j in J:\n",
    "        Fj[j] = df.loc[j-1,'Fj']\n",
    "    for j in J:\n",
    "        Qj[j] = df.loc[j-1,'Qj']\n",
    "        \n",
    "    \n",
    "    fijl = {}\n",
    "    delUijl = {}\n",
    "    \n",
    "    n = df['I'].count()\n",
    "    \n",
    "    fijl_ind = df.columns.get_loc('fijl')\n",
    "    delUijl_ind = df.columns.get_loc('delUijl')\n",
    "    \n",
    "    for i in I:\n",
    "        for j in J:\n",
    "            for l in L:\n",
    "                fijl[i,j,l] = df.iloc[i-1+(l-1)*n,fijl_ind + j -1]\n",
    "                delUijl[i,j,l] = df.iloc[i-1+(l-1)*n,delUijl_ind + j -1]\n",
    "          \n",
    "    \n",
    "    return Sk,popi,Fj,Fk,Qj,mu,a,b,PI,phi,T,Uij,Bij,tij,Ukj,Bkj,tkj,fijl,delUijl"
   ]
  },
  {
   "cell_type": "code",
   "execution_count": 3,
   "metadata": {
    "id": "Gs6xh0PerHyZ"
   },
   "outputs": [],
   "source": [
    "# def main_model(df,model):\n",
    "    \n",
    "#     y,r,w,z,x = addvars(model,N,L,K,A,S)\n",
    "#     Fij,Ml,tij,Uij,Bij,T,u,a,b,mu,P,qk,del_k,hk,pk,pki,vki = addparam(df, N, L, K, A, S)\n",
    "#     minobj = model.addVar(\"minobj\")\n",
    "  \n",
    "#     for i in N:\n",
    "#         model.addCons(quicksum(y[i,j] for j in L) <= 1)\n",
    "#         model.addCons(quicksum(r[i,j] for j in K) <= quicksum(Ml[l]*y[i,l] for l in L))\n",
    "#     for k in K:\n",
    "#         for s in S:\n",
    "#                 model.addCons(quicksum((x[j,i,k,s] - z[i,k,s] + (pki[i,k,s]*r[i,k]/T)) for j in N if (j,i) in A) <= quicksum((x[i,j,k,s] + vki[i,k] - w[i,k,s]) for j in N if (i,j) in A))\n",
    "#                 model.addCons(quicksum((x[j,i,k,s] - z[i,k,s] + (pki[i,k,s]*r[i,k]/T)) for j in N if (j,i) in A) >= quicksum((x[i,j,k,s] + vki[i,k] - w[i,k,s]) for j in N if (i,j) in A))  \n",
    "#         obj_exp = quicksum(Fij[i,j]*y[i,j] for j in L)\n",
    "#         obj_exp += quicksum(qk[k]*r[i,k] for k in K)\n",
    "#     for s in S:\n",
    "#         for i in N:\n",
    "#             obj_exp1 = quicksum(hk[k]*z[i,k]*T)\n",
    "#             obj_exp1 += quicksum(pk[k]*w[i,k]*T)\n",
    "#             for j in N:\n",
    "#                 if (i,j) in A:\n",
    "#                     obj_exp2 = quicksum(mu*del_k[k]*tij[i,j,s]*(1 + a*((u*quicksum(x[i,j,k] for k in K) + Bij[i,j,s])/Uij[i,j,s])**b)*x[i,j,k,s]*T for k in K)\n",
    "#         obj _exp += P[s]*(obj_exp2 + obj_exp1)           \n",
    "        \n",
    "#     model.addCons(obj_exp <= minobj)\n",
    "#     model.optimize(minobj, \"minimize\")\n",
    "    \n",
    "#     model.writeProblem(\"model.lp\")         \n",
    "  "
   ]
  },
  {
   "cell_type": "code",
   "execution_count": 4,
   "metadata": {},
   "outputs": [],
   "source": [
    "def main_model(df,model):\n",
    "    \n",
    "    I,J,K,L = IJKL(df)\n",
    "    s, w, x, v, y, z = addvars(model,I,J,K,L)\n",
    "    Sk,popi,Fj,Fk,Qj,mu,a,b,PI,phi,T,Uij,Bij,tij,Ukj,Bkj,tkj,fijl,delUijl = addparam(df, I, J, K, L)\n",
    "    minobj = model.addVar(\"minobj\")\n",
    "#     minobj1 = model.addVar(\"minobj1\")\n",
    "    \n",
    "#     obj_exp2 = 0.0\n",
    "    \n",
    "    for i in I:\n",
    "            model.addCons(quicksum(x[i, j] for j in J) + s[i] >= popi[i], name=\"D@S_%s\" % i)\n",
    "            \n",
    "     \n",
    "    for j in J:       \n",
    "           model.addCons(quicksum(x[i, j] for i in I) <= Qj[j]*y[j], name=\"Shel_Cap_%s\" % j)\n",
    "            \n",
    "    for k in K:       \n",
    "           model.addCons(quicksum(v[k, j] for j in J) <= Sk[k]*z[k], name=\"DC_Cap_%s\" % k)\n",
    "            \n",
    "    for j in J:       \n",
    "           model.addCons(quicksum(v[k, j] for k in K) >= phi*quicksum(x[i,j] for i in I), name=\"En_Rel_at_Shel_%s\" % j)\n",
    "      \n",
    "    for i in I:       \n",
    "            for j in J:\n",
    "                    suw = 0.0\n",
    "                    for l in L:\n",
    "                        suw += delUijl[i,j,l]*w[i,j,l]\n",
    "                        print(suw)\n",
    "                    model.addCons(x[i,j] <= Uij[i,j] + suw, name=\"Link_Cap_5a_(%s, %s)\" %(i, j))  \n",
    "    for i in I:\n",
    "        for j in J:\n",
    "            for l in L:\n",
    "                model.addCons(w[i,j,l] <= y[j], name = \"Link_Cap_5b_(%s, %s, %s)\" %(i, j, l))\n",
    "    \n",
    "    \n",
    "    for i in I:       \n",
    "            for j in J:\n",
    "                    model.addCons(quicksum(w[i,j,l] for l in L) <= 1, name=\"At_most_1_5c_(%s, %s, %s)\" %(i, j, l))  \n",
    "    \n",
    "    lobj = quicksum(Fj[j]*y[j] for j in J) + quicksum(Fk[k]*z[k] for k in K)\n",
    "    \n",
    "    \n",
    "    for i in I:\n",
    "        for j in J:\n",
    "            for l in L:\n",
    "                lobj += fijl[i,j,l]*w[i,j,l]\n",
    "    \n",
    "#     nlobj1 = 0.0;\n",
    "#     nlobj2 = 0.0;\n",
    "    for i in I:\n",
    "        for j in J:\n",
    "                lobj += mu*tij[i,j]*((1 + a*((x[i,j] + Bij[i,j])/(Uij[i,j] + quicksum(delUijl[i,j,l]*w[i,j,l] for l in L))))**b)*x[i,j]*T\n",
    "    \n",
    "    for k in K:\n",
    "        for j in J:\n",
    "                lobj += mu*tkj[k,j]*((1 + a*((v[k,j] + Bkj[k,j])/(Ukj[k,j] )))**b)*v[k,j]*T\n",
    "    \n",
    "    lobj += PI*quicksum(s[i] for i in I) \n",
    "    \n",
    "#     obj_exp2 = nlobj1 + nlobj2\n",
    "#     obj_exp = lobj + obj_exp2\n",
    "    \n",
    "#     model.addCons(obj_exp2 <= minobj, name = \"obj_cons\")\n",
    "    model.addCons(minobj >= lobj, name = \"nonlinear_obj_cons\")\n",
    "#     model.addCons(obj_exp2 >= minobj)\n",
    "#     model.addCons(obj_exp <= minobj1)\n",
    "#     model.addCons(obj_exp >= minobj1)\n",
    "    \n",
    "    model.setObjective(minobj, \"minimize\")\n",
    "    model.optimize()\n",
    "#     print(model.getObjVal())\n",
    "#     model.writeProblem(\"model.lp\")         \n",
    "#     sol_value = {}\n",
    "#     if model.getStatus() == 'optimal':\n",
    "#         sol_value = {var.name: model.getVal(var) for var in model.getVars()}\n",
    "    \n",
    "#     return sol_value"
   ]
  },
  {
   "cell_type": "code",
   "execution_count": null,
   "metadata": {},
   "outputs": [],
   "source": []
  },
  {
   "cell_type": "code",
   "execution_count": 5,
   "metadata": {},
   "outputs": [],
   "source": [
    "def IJKL(df):  \n",
    "    I = set()\n",
    "    L = set()\n",
    "    K = set()\n",
    "    J = set()\n",
    "     \n",
    "    for v1,v2,v3,v4 in zip(df['I'],df['J'],df['K'],df['L']):\n",
    "        if pd.notna(v1):\n",
    "            I.add(int(v1))\n",
    "        if pd.notna(v2):\n",
    "            J.add(int(v2))\n",
    "        if pd.notna(v3):\n",
    "            K.add(int(v3))   \n",
    "        if pd.notna(v4):\n",
    "            L.add(int(v4))\n",
    "        \n",
    "#     for value in df['A']:\n",
    "#         if pd.notna(value):\n",
    "#             int1 = int(value[1])\n",
    "#             int2 = int(value[3])\n",
    "#             tup = (int1, int2)\n",
    "#             A.add(tup)\n",
    "#         else: \n",
    "#             break\n",
    "        \n",
    "    \n",
    "    return I,J,K,L   "
   ]
  },
  {
   "cell_type": "code",
   "execution_count": 8,
   "metadata": {
    "colab": {
     "base_uri": "https://localhost:8080/",
     "height": 406
    },
    "id": "lLPYBH3q8WY-",
    "outputId": "f9fe760d-b3d6-424c-9a64-c46596211799"
   },
   "outputs": [
    {
     "name": "stdout",
     "output_type": "stream",
     "text": [
      "Expr({Term(w(1,1,1)): 6.25, Term(): 0.0})\n",
      "Expr({Term(w(1,1,1)): 6.25, Term(): 0.0, Term(w(1,1,2)): 4.0})\n",
      "Expr({Term(w(1,2,1)): 3.0, Term(): 0.0})\n",
      "Expr({Term(w(1,2,1)): 3.0, Term(): 0.0, Term(w(1,2,2)): 6.25})\n",
      "Expr({Term(w(1,3,1)): 3.0, Term(): 0.0})\n",
      "Expr({Term(w(1,3,1)): 3.0, Term(): 0.0, Term(w(1,3,2)): 1.23})\n",
      "Expr({Term(w(2,1,1)): 3.0, Term(): 0.0})\n",
      "Expr({Term(w(2,1,1)): 3.0, Term(): 0.0, Term(w(2,1,2)): 6.25})\n",
      "Expr({Term(w(2,2,1)): 4.98, Term(): 0.0})\n",
      "Expr({Term(w(2,2,1)): 4.98, Term(): 0.0, Term(w(2,2,2)): 1.23})\n",
      "Expr({Term(w(2,3,1)): 9.351, Term(): 0.0})\n",
      "Expr({Term(w(2,3,1)): 9.351, Term(): 0.0, Term(w(2,3,2)): 3.0})\n",
      "Expr({Term(w(3,1,1)): 4.98, Term(): 0.0})\n",
      "Expr({Term(w(3,1,1)): 4.98, Term(): 0.0, Term(w(3,1,2)): 3.0})\n",
      "Expr({Term(w(3,2,1)): 1.865, Term(): 0.0})\n",
      "Expr({Term(w(3,2,1)): 1.865, Term(): 0.0, Term(w(3,2,2)): 3.0})\n",
      "Expr({Term(w(3,3,1)): 3.75, Term(): 0.0})\n",
      "Expr({Term(w(3,3,1)): 3.75, Term(): 0.0, Term(w(3,3,2)): 9.351})\n",
      "Expr({Term(w(4,1,1)): 1.865, Term(): 0.0})\n",
      "Expr({Term(w(4,1,1)): 1.865, Term(): 0.0, Term(w(4,1,2)): 4.98})\n",
      "Expr({Term(w(4,2,1)): 4.0, Term(): 0.0})\n",
      "Expr({Term(w(4,2,1)): 4.0, Term(): 0.0, Term(w(4,2,2)): 9.351})\n",
      "Expr({Term(w(4,3,1)): 7.98, Term(): 0.0})\n",
      "Expr({Term(w(4,3,1)): 7.98, Term(): 0.0, Term(w(4,3,2)): 3.75})\n"
     ]
    }
   ],
   "source": [
    "df = pd.read_excel(\"C:/Users/Divyansh/Desktop/project_fhamid/data/data_init.xlsx\")\n",
    "model = Model(\"Example2\")\n",
    "# model.redirectOutput() \n",
    "# model.printVersion()\n",
    "main_model(df,model) \n"
   ]
  },
  {
   "cell_type": "code",
   "execution_count": 9,
   "metadata": {},
   "outputs": [
    {
     "ename": "Exception",
     "evalue": "SCIP: a required plugin was not found !",
     "output_type": "error",
     "traceback": [
      "\u001b[1;31m---------------------------------------------------------------------------\u001b[0m",
      "\u001b[1;31mException\u001b[0m                                 Traceback (most recent call last)",
      "\u001b[1;32m<ipython-input-9-1b3ba4d0b999>\u001b[0m in \u001b[0;36m<module>\u001b[1;34m\u001b[0m\n\u001b[1;32m----> 1\u001b[1;33m \u001b[0mmodel\u001b[0m\u001b[1;33m.\u001b[0m\u001b[0mwriteProblem\u001b[0m\u001b[1;33m(\u001b[0m\u001b[1;34m\"model_0904.lp\"\u001b[0m\u001b[1;33m)\u001b[0m\u001b[1;33m\u001b[0m\u001b[1;33m\u001b[0m\u001b[0m\n\u001b[0m",
      "\u001b[1;32msrc\\pyscipopt\\scip.pyx\u001b[0m in \u001b[0;36mpyscipopt.scip.Model.writeProblem\u001b[1;34m()\u001b[0m\n",
      "\u001b[1;32msrc\\pyscipopt\\scip.pyx\u001b[0m in \u001b[0;36mpyscipopt.scip.PY_SCIP_CALL\u001b[1;34m()\u001b[0m\n",
      "\u001b[1;31mException\u001b[0m: SCIP: a required plugin was not found !"
     ]
    }
   ],
   "source": [
    "model.writeProblem(\"model_0904.lp\")"
   ]
  },
  {
   "cell_type": "code",
   "execution_count": null,
   "metadata": {},
   "outputs": [],
   "source": []
  },
  {
   "cell_type": "code",
   "execution_count": 85,
   "metadata": {
    "id": "ux_azmLT_Zv4"
   },
   "outputs": [
    {
     "data": {
      "text/plain": [
       "92.99999999999996"
      ]
     },
     "execution_count": 85,
     "metadata": {},
     "output_type": "execute_result"
    }
   ],
   "source": [
    "model.getObjVal()\n"
   ]
  },
  {
   "cell_type": "code",
   "execution_count": 45,
   "metadata": {},
   "outputs": [
    {
     "name": "stdout",
     "output_type": "stream",
     "text": [
      "{'y(1)': 0.0, 'y(2)': 0.0, 'y(3)': 0.0, 'z(5)': 0.0, 'w(1,1,{1: s(1), 2: s(2), 3: s(3), 4: s(4), 5: s(5)})': 0.0, 'w(1,2,{1: s(1), 2: s(2), 3: s(3), 4: s(4), 5: s(5)})': 0.0, 'w(1,3,{1: s(1), 2: s(2), 3: s(3), 4: s(4), 5: s(5)})': 0.0, 'w(2,1,{1: s(1), 2: s(2), 3: s(3), 4: s(4), 5: s(5)})': 0.0, 'w(2,2,{1: s(1), 2: s(2), 3: s(3), 4: s(4), 5: s(5)})': 0.0, 'w(2,3,{1: s(1), 2: s(2), 3: s(3), 4: s(4), 5: s(5)})': 0.0, 'w(3,1,{1: s(1), 2: s(2), 3: s(3), 4: s(4), 5: s(5)})': 0.0, 'w(3,2,{1: s(1), 2: s(2), 3: s(3), 4: s(4), 5: s(5)})': 0.0, 'w(3,3,{1: s(1), 2: s(2), 3: s(3), 4: s(4), 5: s(5)})': 0.0, 'w(4,1,{1: s(1), 2: s(2), 3: s(3), 4: s(4), 5: s(5)})': 0.0, 'w(4,2,{1: s(1), 2: s(2), 3: s(3), 4: s(4), 5: s(5)})': 0.0, 'w(4,3,{1: s(1), 2: s(2), 3: s(3), 4: s(4), 5: s(5)})': 0.0, 'w(5,1,{1: s(1), 2: s(2), 3: s(3), 4: s(4), 5: s(5)})': 0.0, 'w(5,2,{1: s(1), 2: s(2), 3: s(3), 4: s(4), 5: s(5)})': 0.0, 'w(5,3,{1: s(1), 2: s(2), 3: s(3), 4: s(4), 5: s(5)})': 0.0, 'xij(3,2)': 0.0, 'xij(3,3)': 0.0, 'xij(4,1)': 0.0, 'xij(4,2)': 0.0, 'xij(4,3)': 0.0, 'xij(5,1)': 0.0, 'xij(5,2)': 0.0, 'xij(5,3)': 0.0, 'xkj(1,1)': 0.0, 'xkj(1,2)': 0.0, 'xkj(1,3)': 0.0, 'xkj(2,1)': 0.0, 'xkj(2,2)': 0.0, 'xkj(2,3)': 0.0, 'xkj(3,1)': 0.0, 'xkj(3,2)': 0.0, 'xkj(3,3)': 0.0, 's(1)': 74.0, 's(2)': 45.0, 's(3)': 21.0, 's(4)': 15.0, 's(5)': 6.0, 'xij(1,1)': 0.0, 'xij(1,2)': 0.0, 'xij(1,3)': 0.0, 'xij(2,1)': 0.0, 'xij(2,2)': 0.0, 'xij(2,3)': 0.0, 'xij(3,1)': 0.0, 'minobj': 96.59999999999995}\n"
     ]
    }
   ],
   "source": [
    "sol_value = {}\n",
    "if model.getStatus() == 'optimal':\n",
    "    sol_value = {var.name: model.getVal(var) for var in model.getVars()}\n",
    "    \n",
    "print(sol_value)"
   ]
  },
  {
   "cell_type": "code",
   "execution_count": 48,
   "metadata": {},
   "outputs": [],
   "source": [
    "solution_data = {}\n",
    "for var in model.getVars():\n",
    "    solution_data[var.name] = model.getVal(var)\n",
    "solution_data['Objective Value'] = model.getObjVal()\n",
    "# Convert solution data to a pandas DataFrame\n",
    "soldf = pd.DataFrame([solution_data])\n",
    "# solution_df = solution_df.transpose()\n",
    "soldft = soldf.T\n",
    "\n",
    "csv_filename = 'solution_pre.csv'\n",
    "soldft.to_csv(csv_filename, index_label = 'Column')\n"
   ]
  },
  {
   "cell_type": "code",
   "execution_count": 49,
   "metadata": {
    "scrolled": true
   },
   "outputs": [
    {
     "ename": "Exception",
     "evalue": "SCIP: a required plugin was not found !",
     "output_type": "error",
     "traceback": [
      "\u001b[1;31m---------------------------------------------------------------------------\u001b[0m",
      "\u001b[1;31mException\u001b[0m                                 Traceback (most recent call last)",
      "\u001b[1;32m<ipython-input-49-fa851b0f01d7>\u001b[0m in \u001b[0;36m<module>\u001b[1;34m\u001b[0m\n\u001b[1;32m----> 1\u001b[1;33m \u001b[0mmodel\u001b[0m\u001b[1;33m.\u001b[0m\u001b[0mwriteProblem\u001b[0m\u001b[1;33m(\u001b[0m\u001b[1;34m\"model_2403.lp\"\u001b[0m\u001b[1;33m)\u001b[0m\u001b[1;33m\u001b[0m\u001b[1;33m\u001b[0m\u001b[0m\n\u001b[0m",
      "\u001b[1;32msrc\\pyscipopt\\scip.pyx\u001b[0m in \u001b[0;36mpyscipopt.scip.Model.writeProblem\u001b[1;34m()\u001b[0m\n",
      "\u001b[1;32msrc\\pyscipopt\\scip.pyx\u001b[0m in \u001b[0;36mpyscipopt.scip.PY_SCIP_CALL\u001b[1;34m()\u001b[0m\n",
      "\u001b[1;31mException\u001b[0m: SCIP: a required plugin was not found !"
     ]
    }
   ],
   "source": [
    "model.writeProblem(\"model_2403.lp\")"
   ]
  },
  {
   "cell_type": "code",
   "execution_count": null,
   "metadata": {},
   "outputs": [],
   "source": []
  },
  {
   "cell_type": "code",
   "execution_count": null,
   "metadata": {},
   "outputs": [],
   "source": []
  },
  {
   "cell_type": "code",
   "execution_count": null,
   "metadata": {},
   "outputs": [],
   "source": []
  }
 ],
 "metadata": {
  "colab": {
   "provenance": []
  },
  "kernelspec": {
   "display_name": "Python 3",
   "language": "python",
   "name": "python3"
  },
  "language_info": {
   "codemirror_mode": {
    "name": "ipython",
    "version": 3
   },
   "file_extension": ".py",
   "mimetype": "text/x-python",
   "name": "python",
   "nbconvert_exporter": "python",
   "pygments_lexer": "ipython3",
   "version": "3.8.5"
  }
 },
 "nbformat": 4,
 "nbformat_minor": 1
}
